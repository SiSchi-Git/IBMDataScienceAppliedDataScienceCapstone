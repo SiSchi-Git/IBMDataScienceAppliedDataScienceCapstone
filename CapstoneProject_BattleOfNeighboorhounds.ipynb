{
 "cells": [
  {
   "cell_type": "markdown",
   "metadata": {},
   "source": [
    "# Capstone Project - The Battle of Neighborhoods"
   ]
  },
  {
   "cell_type": "markdown",
   "metadata": {},
   "source": [
    "## Week.1:"
   ]
  },
  {
   "cell_type": "markdown",
   "metadata": {},
   "source": [
    "### 1) Description of the problem and a discussion of the background"
   ]
  },
  {
   "cell_type": "markdown",
   "metadata": {},
   "source": [
    "A big german company for fitness food wants to open up a flagshipstore in Canada.<br>\n",
    "The store should be located in the largest city in one of the major regions of the country in the area in order to be representative.<br>\n",
    "Therefore the company decided that the shop should either be in \n",
    "- Toronto (Ontario),\n",
    "- Montréal (Québec) or\n",
    "- Vancouver (British Columbia),\n",
    "<br>\n",
    "\n",
    "In order to be able to make a reasonable choise more detailed information about the city environments are needed. \n",
    "<br>\n",
    "From their experience in other countries the company identified the following location based criteria in order to garantee the success of the flagshipstore.\n",
    "- There should be many fitness centers or sports clubs in the city, which indicates that there are a lot of customers living in the city.\n",
    "- There should not be many competitors in the city which also offer health menues. The company indentified that the majority of their customers are fitness enthusiasts. Studies have shown that meatheads consider rice and chicken, as their go-to meal option. Due to this the company identified asian restaurant as their main competitor. Hence there should not be many asian restaurants in the choosen city.\n",
    "<br>\n",
    "In order to fullfill criteria location data derived from foursquare will be used to give an educacted suggestion in which of the two cities the company should open up their flagshipstore. \n",
    "<br>\n",
    "<br>\n",
    "<br>"
   ]
  },
  {
   "cell_type": "markdown",
   "metadata": {},
   "source": [
    "### 2) Description of the data and how it will be used to solve the problem"
   ]
  },
  {
   "cell_type": "markdown",
   "metadata": {},
   "source": [
    "In order to give the best advice to the customer we will use the following data for this project:\n",
    "- The geographic data for each city, which contain a list of Boroughs and Neighbourhoods along with their latitude and longitude coordinates will be derived from wikipedia.\n",
    "    - Toronto: https://en.wikipedia.org/wiki/List_of_postal_codes_of_Canada:_M\n",
    "    - Montréal: https://en.wikipedia.org/wiki/List_of_postal_codes_of_Canada:_H\n",
    "    - Vancouver: https://en.wikipedia.org/wiki/List_of_postal_codes_of_Canada:_V\n",
    "<br>\n",
    "<br>\n",
    "- The venue information for each city, which contain detailed information about the location of fitness and sport centers as well as of asian restaurants are derived from Foursquare.\n",
    "    -  https://foursquare.com/\n",
    "<br>\n",
    "<br>\n",
    "<br>"
   ]
  },
  {
   "cell_type": "markdown",
   "metadata": {},
   "source": [
    "## Week.2:"
   ]
  },
  {
   "cell_type": "code",
   "execution_count": null,
   "metadata": {},
   "outputs": [],
   "source": []
  }
 ],
 "metadata": {
  "kernelspec": {
   "display_name": "Python",
   "language": "python",
   "name": "conda-env-python-py"
  },
  "language_info": {
   "codemirror_mode": {
    "name": "ipython",
    "version": 3
   },
   "file_extension": ".py",
   "mimetype": "text/x-python",
   "name": "python",
   "nbconvert_exporter": "python",
   "pygments_lexer": "ipython3",
   "version": "3.6.12"
  }
 },
 "nbformat": 4,
 "nbformat_minor": 4
}
