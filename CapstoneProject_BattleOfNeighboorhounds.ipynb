{
 "cells": [
  {
   "cell_type": "markdown",
   "metadata": {},
   "source": [
    "# Capstone Project - The Battle of Neighborhoods"
   ]
  },
  {
   "cell_type": "markdown",
   "metadata": {},
   "source": [
    "## Week.1:"
   ]
  },
  {
   "cell_type": "markdown",
   "metadata": {},
   "source": [
    "### 1) Description of the problem and a discussion of the background"
   ]
  },
  {
   "cell_type": "markdown",
   "metadata": {},
   "source": [
    "A big US company for fitness food wants to open up a flagshipstore in Germany. They decided that the shop should either be in \n",
    "- Cologne, \n",
    "- Hamburg, \n",
    "- Berlin or \n",
    "- Munich.\n",
    "<br>\n",
    "\n",
    "In order to be able to make a reasonable choise more detailed information about the city environments are needed. This is where the foursquare comes into play. The location data derived from foursquare will be used to give an educacted suggestion in which of the four cities the company should open up their flagshipstore. \n",
    "<br>\n",
    "<br>\n",
    "<br>"
   ]
  },
  {
   "cell_type": "markdown",
   "metadata": {},
   "source": [
    "### 2) Description of the data and how it will be used to solve the problem"
   ]
  },
  {
   "cell_type": "markdown",
   "metadata": {},
   "source": [
    "For their puprose the following informations are important to guarantee the success of the flagshipstore:\n",
    "- How many fitness centers or sports clubs are in the city?\n",
    "- How many other restaurants are in the city, which also offer health menues? (since fitness enthusiasts love rice and chicken, only asian restaurant will be taken into account)\n",
    "<br>\n",
    "<br>\n",
    "<br>"
   ]
  },
  {
   "cell_type": "markdown",
   "metadata": {},
   "source": [
    "## Week.2:"
   ]
  },
  {
   "cell_type": "code",
   "execution_count": null,
   "metadata": {},
   "outputs": [],
   "source": []
  }
 ],
 "metadata": {
  "kernelspec": {
   "display_name": "Python",
   "language": "python",
   "name": "conda-env-python-py"
  },
  "language_info": {
   "codemirror_mode": {
    "name": "ipython",
    "version": 3
   },
   "file_extension": ".py",
   "mimetype": "text/x-python",
   "name": "python",
   "nbconvert_exporter": "python",
   "pygments_lexer": "ipython3",
   "version": "3.6.12"
  }
 },
 "nbformat": 4,
 "nbformat_minor": 4
}
